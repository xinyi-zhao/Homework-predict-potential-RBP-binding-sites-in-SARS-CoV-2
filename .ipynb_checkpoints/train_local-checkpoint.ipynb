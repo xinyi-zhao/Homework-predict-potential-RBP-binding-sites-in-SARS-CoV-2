{
 "cells": [
  {
   "cell_type": "code",
   "execution_count": 25,
   "metadata": {},
   "outputs": [],
   "source": [
    "import multiprocessing\n",
    "import os\n",
    "import pickle\n",
    "import random\n",
    "\n",
    "import gensim\n",
    "import numpy as np\n",
    "import pandas as pd\n",
    "import sys\n",
    "from gensim.models.doc2vec import Doc2Vec, TaggedDocument\n",
    "sys.path.append(\"..\")\n",
    "from embeddings_reproduction import embedding_tools"
   ]
  },
  {
   "cell_type": "code",
   "execution_count": 26,
   "metadata": {},
   "outputs": [],
   "source": [
    "def get_sequence(line):\n",
    "    line2=line\n",
    "    for i in 'agctu\\n':\n",
    "        line2 = line2.replace(i, '')\n",
    "    line = line.upper().rstrip()\n",
    "    line = line.replace('T', 'U')\n",
    "    line2 = line2.replace('T','U')\n",
    "    return line2"
   ]
  },
  {
   "cell_type": "code",
   "execution_count": 27,
   "metadata": {},
   "outputs": [
    {
     "name": "stdout",
     "output_type": "stream",
     "text": [
      "ALKBH5_Baltz2012\n",
      "C17ORF85_Baltz2012\n",
      "C22ORF28_Baltz2012\n"
     ]
    }
   ],
   "source": [
    "sequence_dict = {}\n",
    "df = pd.DataFrame(columns=['sequence'])\n",
    "seq={}\n",
    "all_tasks=['ALKBH5_Baltz2012',\n",
    "'C17ORF85_Baltz2012',\n",
    "'C22ORF28_Baltz2012']\n",
    "#'CAPRIN1_Baltz2012',\n",
    "#'CLIPSEQ_AGO2'\n",
    "#'CLIPSEQ_ELAVL1',\n",
    "#'CLIPSEQ_SFRS1',\n",
    "#'ICLIP_HNRNPC',\n",
    "#'ICLIP_TDP43',\n",
    "#'ICLIP_TIA1',\n",
    "#'ICLIP_TIAL1',\n",
    "#'PARCLIP_AGO1234',\n",
    "#'PARCLIP_ELAVL1',\n",
    "#'PARCLIP_EWSR1',\n",
    "#'PARCLIP_FUS',\n",
    "#'PARCLIP_HUR',\n",
    "#'PARCLIP_IGF2BP123',\n",
    "#'PARCLIP_MOV10_Sievers',\n",
    "#'PARCLIP_PUM2',\n",
    "#'PARCLIP_QKI',\n",
    "#'PARCLIP_TAF15',\n",
    "#'PTBv1',\n",
    "#'ZC3H7B_Baltz2012']\n",
    "for task in all_tasks:\n",
    "    seq={}\n",
    "    print(task)\n",
    "    f=open('data/'+task+'.train.positives.fa')\n",
    "    for line in f:\n",
    "        if line.startswith('>'):\n",
    "                name=line.replace('>','').split()[0]\n",
    "                seq[name]=''\n",
    "        else:\n",
    "                seq[name]+=line.replace('\\n','').strip()\n",
    "    f=open('data/'+task+'.train.negatives.fa')\n",
    "    for line in f:\n",
    "        if line.startswith('>'):\n",
    "                name=line.replace('>','').split()[0]\n",
    "                seq[name]=''\n",
    "        else:\n",
    "                seq[name]+=line.replace('\\n','').strip()\n",
    "    for name in seq.keys():\n",
    "        df=df.append({'sequence':get_sequence(seq[name])},ignore_index=True)\n",
    "f.close()\n",
    "#print(seq)\n",
    "\n",
    "#df.to_csv(\"tmp.csv\")\n",
    "sequence_dict['virus']=df\n"
   ]
  },
  {
   "cell_type": "code",
   "execution_count": 28,
   "metadata": {},
   "outputs": [
    {
     "name": "stdout",
     "output_type": "stream",
     "text": [
      "                                                sequence\n",
      "0      CGCGGGACGCGGCCCGAGGCCGUGCGCGAGCCGGGGCACCGGGCGG...\n",
      "1      GAUGCCAGGUCCUAUAUUAUUAGAAUUACGAUUUACUUAUUUUCUA...\n",
      "2      GCUUAUAUCAAUGUGGAUUUGUCGGCUUUUAUGUAAUCUGUAAUAU...\n",
      "3      GGUAUUCCUGUGUAGCAUGUUAACAGGUGCUUACCACCCUUAGAGA...\n",
      "4      UAAAUAAGAGUAAGGUUCAAACACAAGCAGUACAUGUUCUGUUUCA...\n",
      "5      UCCCCGCGCGCGCUGCGGACCCCGCUGACCUUGGCCGCGUCCCGGG...\n",
      "6      GAGGCCCUCCUGUGCUGGGGGAAUGAGCCCAGAGAACAGCGAAGUA...\n",
      "7      GGAAGAAGCAGCUAAUCAACAGGGAUCCUACACUGAACUCUUUAAA...\n",
      "8      CUCACGGGGUGAAACAUGUCUUUAGUUCCUCAUGUUAACACGAAGC...\n",
      "9      CGUACUUGUUUUUGCAGUAUGGGUUUAGGGAGUAGCUGCCAUUUAU...\n",
      "10     UACUUCUCUUGAUUAUUUCUAGAUAUUUCGUCUUUGGAAUCGUCAC...\n",
      "11     CCCGCAGAGGUGGCAGCGGCCGGGGGCAGGAGGAUGGUGCAGAAGG...\n",
      "12     UUCCUCUCCUGAACCUAAAGCUCCAGCCCCUCGGGCCCUUCCCAGA...\n",
      "13     AGACCAGCUAGUUUGGGGCUGGGGAGCUCAGGCAAAAGAGGUUUCC...\n",
      "14     AACCUGUCUACAUCUCCCAGUGGGGGUGAGAAAGGCUGAAAUAUGG...\n",
      "15     AUGUAAAAGUGUUUCUAUGCAUAUUACAAGUUUACUCAAGCACGUA...\n",
      "16     UAUGGGGUUGCAUCGACAUCUUAAAUCAGUAAUUGCUAAGCUCUAA...\n",
      "17     UUUUUAUUUUUUAAAUCCAGGUGAACAAGGACUUUGGGUCUAUUUU...\n",
      "18     AAUUCCAGAGGUGACGUCUUAGGAUCACUUGUGGAUUUUGAUAGGU...\n",
      "19     UUCAUUUUCAGUCUUUAGAAAGAAGGUGAGUUGGAUGAAAUGUUAC...\n",
      "20     AUUUACAAAUAGAUCCUUCGAUUAUUUAGCAGGUAGCAUCUAAAGG...\n",
      "21     CAAAGUGCUGGUAUUACAGGCGUGAGCCACCACGCUUGGCCUGAAU...\n",
      "22     AUUAAUGUAUUACGAGUAAUAGCAAGAAAAGGUCGUUUCAUUACAG...\n",
      "23     UUUGUUUUUUUUUUUGAGGUACUGGAAUCUAAUUAAUAUCUCUUAG...\n",
      "24     AGGGGCUGGGGGAUCCUGGGCUGGGUGCCGAGGGUCUUGUCUGCUG...\n",
      "25     UCUUGUGCCAGCCUGUCGUGGCGACCACCCGUUGUGGAGAUCAGUG...\n",
      "26     UGGGGAUAUGGGGCCCCUCACGGCGUCUCUGUGCCAUUCUUGCCCU...\n",
      "27     GCGGCGCCGGCGGCCGAGGAGAAGGAAGAGGCGCGGGAGAAGAUGC...\n",
      "28     CUGGAGUUUUGUAUUGCUGUCAACCCCAGGUAACUCUUUUGGUAGU...\n",
      "29     AAAAGUUUUUUUAAAAACUCUUGGUUUGUGUCUUUAAACACAAUAA...\n",
      "...                                                  ...\n",
      "24532  AGGACUUCUGCUCCCGGUAAAGGGGCUCCAUCAUCCUUUUACACGC...\n",
      "24533  CCUUCAUGUCCGGGUCCUCGUAACCCGGAGCCGCGAGUGAUCCCCG...\n",
      "24534  UAAAUACAUUGCUCAGAUUUUUAUUGUGGCAGAUGUGUAUAUAUGU...\n",
      "24535  ACAAAUAAUUCAAACAUUGCACAGAUGCACAUGGUAGUUUUUGUUU...\n",
      "24536  GUAAGCUCCUGUGUCCUGCACUCAGGGACCUCCCGGCAGGGCCCGU...\n",
      "24537  UUCUUUACACUUGAACACUUGUAGUGAUGACAUAAAGUGUGGCACC...\n",
      "24538  UACUUAGUGUUUUUAAUAAUAUGGUGCCACUGCAGGAUUUGGGGGC...\n",
      "24539  AGACAAAGAGAUAGAAGAAAAGACAGCUGGGCCCGGGGACCACUAC...\n",
      "24540  CAUAUGACUUCCUUUUAGUCAACAUAAAGGAAUUUAUAAGCAUAAA...\n",
      "24541  AGGCGCUCUGGCGGCAGAGGUGGAUGGAGAUGAUCGGCUCUAGUAU...\n",
      "24542  UUGUACAGUGGCAUUAGUGCAAUGAGGUGGACUUAGUUAGAUAAGU...\n",
      "24543  GAAUCAAAUGAAUAGCCUUUUGUAUCAGUUAUUAAUCUUUUCUAAC...\n",
      "24544  UUGCACUCCAGCCUGGGCGACAGAGUGAGACUCCGUCUCAAAAAAA...\n",
      "24545  GCCUACUUCUGUUGCAUUCUAUGGGUUACACAGAGCCAGCCCAAAU...\n",
      "24546  UAUUCUCCUGUCUCAGCUCCCCGAGUAGCUGGGAUUACAGGUGCGU...\n",
      "24547  CUUGCUUCCUGGAGCACAUCCAUCCCAUAGCACUUCAUCCUGGCAG...\n",
      "24548  AAACCAGUCUCUACAUUAAACUUCAUCCUGUUUAUUCAGGGACAUC...\n",
      "24549  CUGGGCCGCAGCACCGGCCGCCGGCCCGCCCCGCCCGCCCCGCCCC...\n",
      "24550  CAUGAUCUAGCAUCAGGUAUAUCUCCCAAUGCUAUCCCUCCCCCCU...\n",
      "24551  UGGUAUAACCAAGCAUCUUAAGUGACCACCCAGUUCUUUGAUUUUG...\n",
      "24552  AUGUAGAUUUAUUAGUAAGUCUUAAAAAUUAAUAUAUAUUUAGACC...\n",
      "24553  UUAGAUUUAUAAGCUUGAUGACCCAAGUUGCCCUCGGCCAGAAUGU...\n",
      "24554  GAGCGGGCCUGAACUGUGAGAUCUCCAAUCUCUCCAAAGCCUUUGG...\n",
      "24555  UCCAGGCACUGGCCUAAGUCCUGGCGAUAAAGUGCGACCGAUUUCC...\n",
      "24556  CGCGAGGAAACAGUAAAUCGCGGAAGGGGGUAGAGGGGGAAGGAAA...\n",
      "24557  GCCGCUCACGAUCCCCAUCCCCCCGCCGGAGAAGUGACAGGAGGCG...\n",
      "24558  UAGCAGGGUGUGAUCAACCACUUAGUAUUUAAAUCUAACGAUAAUC...\n",
      "24559  GUGAGGCAGCCUGGUGAGUGAAGAGAACUCUCUGUGGGAUUGGUAU...\n",
      "24560  GGAGCUGCCGUAACCAUGACAGGGACCCGCUGUCCAGCGGUGGGGG...\n",
      "24561  CAGAAGAUAGUUUACGAAGAGAAAAGAACCUGGAAGAAGCAAAGAA...\n",
      "\n",
      "[24562 rows x 1 columns]\n"
     ]
    }
   ],
   "source": [
    "print(df)\n",
    "df.to_csv('tmp.csv')"
   ]
  },
  {
   "cell_type": "code",
   "execution_count": 31,
   "metadata": {},
   "outputs": [
    {
     "name": "stdout",
     "output_type": "stream",
     "text": [
      "X\t\tk\twindow\n",
      "virus\t\t5\t6\n"
     ]
    },
    {
     "name": "stderr",
     "output_type": "stream",
     "text": [
      "/Users/xiqiao/anaconda3/envs/spyder/lib/python3.6/site-packages/gensim/models/doc2vec.py:570: UserWarning: The parameter `iter` is deprecated, will be removed in 4.0.0, use `epochs` instead.\n",
      "  warnings.warn(\"The parameter `iter` is deprecated, will be removed in 4.0.0, use `epochs` instead.\")\n",
      "/Users/xiqiao/anaconda3/envs/spyder/lib/python3.6/site-packages/gensim/models/doc2vec.py:574: UserWarning: The parameter `size` is deprecated, will be removed in 4.0.0, use `vector_size` instead.\n",
      "  warnings.warn(\"The parameter `size` is deprecated, will be removed in 4.0.0, use `vector_size` instead.\")\n"
     ]
    }
   ],
   "source": [
    "def train(X, k, window):\n",
    "    name_list = [X, str(k), str(window)]\n",
    "    if os.path.isfile('../outputs/docvec_models/2_' + '_'.join(name_list) + '.pkl'):\n",
    "        print(name_list)\n",
    "        return\n",
    "    print('X\\t\\tk\\twindow')\n",
    "    print(name_list[0] + '\\t\\t' + '\\t'.join(name_list[1:]))\n",
    "    kmer_hypers = {'k':k, \n",
    "                   'overlap':False,\n",
    "                   'merge':False}\n",
    "    model_hypers = {'size': 64,\n",
    "                    'min_count': 0,\n",
    "                    'iter': 25,\n",
    "                    'window':window,\n",
    "                    'workers': 4}\n",
    "    documents = embedding_tools.Corpus(sequence_dict[X], kmer_hypers)\n",
    "    model = Doc2Vec(**model_hypers)\n",
    "    model.build_vocab(documents)\n",
    "    model.train(documents,epochs=model.epochs,total_examples=model.corpus_count)\n",
    "    model.save('outputs/docvec_models/0_' + '_'.join(name_list) + '.pkl')\n",
    "\n",
    "train('virus',5,6)"
   ]
  },
  {
   "cell_type": "code",
   "execution_count": null,
   "metadata": {},
   "outputs": [],
   "source": []
  }
 ],
 "metadata": {
  "kernelspec": {
   "display_name": "Python 3",
   "language": "python",
   "name": "python3"
  },
  "language_info": {
   "codemirror_mode": {
    "name": "ipython",
    "version": 3
   },
   "file_extension": ".py",
   "mimetype": "text/x-python",
   "name": "python",
   "nbconvert_exporter": "python",
   "pygments_lexer": "ipython3",
   "version": "3.6.8"
  }
 },
 "nbformat": 4,
 "nbformat_minor": 2
}
